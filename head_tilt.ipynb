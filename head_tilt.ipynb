{
 "cells": [
  {
   "cell_type": "code",
   "execution_count": 1,
   "metadata": {},
   "outputs": [],
   "source": [
    "import cv2\n",
    "import mediapipe as mp"
   ]
  },
  {
   "cell_type": "code",
   "execution_count": 2,
   "metadata": {},
   "outputs": [],
   "source": [
    "# Initialize MediaPipe FaceMesh\n",
    "mp_face_mesh = mp.solutions.face_mesh\n",
    "mp_drawing = mp.solutions.drawing_utils \n",
    "face_mesh = mp_face_mesh.FaceMesh()\n"
   ]
  },
  {
   "cell_type": "code",
   "execution_count": 4,
   "metadata": {},
   "outputs": [],
   "source": [
    "########## LandMarks ##################\n",
    "\n",
    "# X is important\n",
    "\n",
    "rightEar = 323\n",
    "noseMid = 4\n",
    "leftEar = 93\n",
    "\n",
    "# landmark_index = 4"
   ]
  },
  {
   "cell_type": "code",
   "execution_count": 18,
   "metadata": {},
   "outputs": [],
   "source": [
    "# Initialize webcam\n",
    "cap = cv2.VideoCapture(0)\n",
    "while cap.isOpened():\n",
    "    # Read frame from webcam\n",
    "    ret, frame = cap.read()\n",
    "    if not ret:\n",
    "        break\n",
    "\n",
    "    # Flip the frame horizontally for a selfie-view display\n",
    "    frame = cv2.flip(frame, 1)\n",
    "\n",
    "    # Convert the BGR image to RGB\n",
    "    rgb_frame = cv2.cvtColor(frame, cv2.COLOR_BGR2RGB)\n",
    "\n",
    "    # Process the frame with MediaPipe FaceMesh\n",
    "    results = face_mesh.process(rgb_frame)\n",
    "\n",
    "    # Extract x and y positions of the specific landmark\n",
    "    rightEarX, leftEarX, noseX, rightEarY, leftEarY, noseY = None, None, None, None, None, None\n",
    "    if results.multi_face_landmarks:\n",
    "        for face_landmarks in results.multi_face_landmarks:\n",
    "            if landmark_index < len(face_landmarks.landmark):\n",
    "                rightEarlandmark = face_landmarks.landmark[rightEar]\n",
    "                leftEarlandmark = face_landmarks.landmark[leftEar]\n",
    "                Noselandmark = face_landmarks.landmark[noseMid]\n",
    "                h, w, c = frame.shape\n",
    "                rightEarX = int(rightEarlandmark.x * w)\n",
    "                rightEarY = int(rightEarlandmark.y * h)\n",
    "                leftEarX = int(leftEarlandmark.x * w)\n",
    "                leftEarY = int(leftEarlandmark.y * h)\n",
    "                noseX = int(Noselandmark.x * w)\n",
    "                noseY = int(Noselandmark.y * h)\n",
    "\n",
    "                # Draw the landmark point in red color\n",
    "                # cv2.circle(frame, (rightEarX, rightEarY), 5, (0, 0, 255), -1)\n",
    "                # cv2.circle(frame, (leftEarX, rightEarY), 5, (0, 255, 0), -1)\n",
    "                # cv2.circle(frame, (noseX, noseY), 5, (255, 0, 0), -1)\n",
    "\n",
    "                # Draw the text on the frame\n",
    "                # cv2.putText(frame, f\"LE: {leftEarX}, N: {noseX}, RE: {rightEarX}\", (10, 30), cv2.FONT_HERSHEY_SIMPLEX, 1, (0, 255, 0), 2, cv2.LINE_AA)\n",
    "                if int(noseX) < int(leftEarX):\n",
    "                    cv2.putText(frame, f\"Left Tilt Detected\", (10, 30), cv2.FONT_HERSHEY_SIMPLEX, 1, (0, 255, 0), 2, cv2.LINE_AA)\n",
    "                if int(rightEarX) < int(noseX):\n",
    "                    cv2.putText(frame, f\"Right Tilt Detected\", (10, 30), cv2.FONT_HERSHEY_SIMPLEX, 1, (0, 255, 0), 2, cv2.LINE_AA)\n",
    "                break  # Exit loop after finding the landmark once\n",
    "\n",
    "    # Display the frame\n",
    "    cv2.imshow('Webcam', frame)\n",
    "\n",
    "    # Press 'q' to exit\n",
    "    if cv2.waitKey(1) & 0xFF == ord('q'):\n",
    "        break\n",
    "\n",
    "# Release resources\n",
    "cap.release()\n",
    "cv2.destroyAllWindows()"
   ]
  },
  {
   "cell_type": "code",
   "execution_count": null,
   "metadata": {},
   "outputs": [],
   "source": []
  },
  {
   "cell_type": "code",
   "execution_count": null,
   "metadata": {},
   "outputs": [],
   "source": []
  }
 ],
 "metadata": {
  "kernelspec": {
   "display_name": "Python 3",
   "language": "python",
   "name": "python3"
  },
  "language_info": {
   "codemirror_mode": {
    "name": "ipython",
    "version": 3
   },
   "file_extension": ".py",
   "mimetype": "text/x-python",
   "name": "python",
   "nbconvert_exporter": "python",
   "pygments_lexer": "ipython3",
   "version": "3.10.5"
  }
 },
 "nbformat": 4,
 "nbformat_minor": 2
}
